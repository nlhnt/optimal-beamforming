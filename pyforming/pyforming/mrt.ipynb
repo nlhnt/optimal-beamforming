{
 "metadata": {
  "language_info": {
   "codemirror_mode": {
    "name": "ipython",
    "version": 3
   },
   "file_extension": ".py",
   "mimetype": "text/x-python",
   "name": "python",
   "nbconvert_exporter": "python",
   "pygments_lexer": "ipython3",
   "version": 3
  },
  "orig_nbformat": 2
 },
 "nbformat": 4,
 "nbformat_minor": 2,
 "cells": [
  {
   "source": [
    "# Definition 3.2 - Maximum Ratio Transmission\n",
    "the beamforming directions:\n",
    "\n",
    "are called *maximum ratio transmission (MRT)*.\n",
    "\n",
    "<img src=\"./images/mrt_def.png\">"
   ],
   "cell_type": "markdown",
   "metadata": {}
  },
  {
   "cell_type": "code",
   "execution_count": null,
   "metadata": {},
   "outputs": [],
   "source": []
  }
 ]
}